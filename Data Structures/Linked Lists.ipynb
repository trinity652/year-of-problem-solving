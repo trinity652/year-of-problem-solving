{
 "cells": [
  {
   "attachments": {},
   "cell_type": "markdown",
   "metadata": {},
   "source": [
    "## Linked Lists"
   ]
  },
  {
   "attachments": {},
   "cell_type": "markdown",
   "metadata": {},
   "source": [
    "**Singly Linked List**:  \n",
    "    a. Each node has address to the next node.  \n",
    "    b. Can only traverse in one direction."
   ]
  },
  {
   "cell_type": "code",
   "execution_count": 3,
   "metadata": {},
   "outputs": [],
   "source": [
    "class SinglyLinkedListNode:\n",
    "    def __init__(self,value):\n",
    "        self.value = value\n",
    "        self.next = None"
   ]
  },
  {
   "cell_type": "code",
   "execution_count": 23,
   "metadata": {},
   "outputs": [],
   "source": [
    "class SinglyLinkedList:\n",
    "\n",
    "    def __init__(self):\n",
    "        self.head = None\n",
    "        self.tail = None\n",
    "\n",
    "    def pushNode(self,value):\n",
    "        new_node = SinglyLinkedListNode(value)\n",
    "        new_node.next = None\n",
    "        #if the linked list is completely empty\n",
    "        if not self.head:\n",
    "            self.head = new_node\n",
    "            self.tail = new_node\n",
    "        else:\n",
    "            self.tail.next = new_node\n",
    "            self.tail = new_node\n",
    "            \n",
    "    def popNode(self):\n",
    "        temp,prev = self.head,None\n",
    "        if self.head:\n",
    "            while temp:\n",
    "                if not temp.next:\n",
    "                    prev.next = None\n",
    "                    self.tail = prev\n",
    "                prev = temp\n",
    "                temp = temp.next\n",
    "\n",
    "    def deleteNode(self,position):\n",
    "        temp, prev, pos = self.head, None, 0\n",
    "        while temp:\n",
    "            if pos == 0:\n",
    "                if position == pos:\n",
    "                    self.head = temp.next\n",
    "                    break\n",
    "\n",
    "            else:\n",
    "                if pos == position:\n",
    "                    prev.next = temp.next\n",
    "                    if not temp.next:\n",
    "                        self.tail = prev\n",
    "                    break\n",
    "\n",
    "            prev = temp \n",
    "            temp = temp.next\n",
    "            pos+=1\n",
    "    \n",
    "    def printList(self):\n",
    "        temp = self.head\n",
    "        if self.head:\n",
    "            while temp:\n",
    "                print(temp.value)\n",
    "                temp = temp.next\n",
    "        else:\n",
    "            print(\"Linked list is empty.\")\n",
    "\n",
    "    def reverseList(self):\n",
    "        temp,prev,pos = self.head,None,0\n",
    "        while temp:\n",
    "            if pos == 0:\n",
    "                prev = temp\n",
    "                temp = temp.next\n",
    "                prev.next = None\n",
    "                self.tail = temp\n",
    "            else:\n",
    "                buff = temp\n",
    "                temp = temp.next\n",
    "                buff.next = prev\n",
    "                prev = buff\n",
    "            pos+=1\n",
    "        self.head = prev\n"
   ]
  },
  {
   "cell_type": "code",
   "execution_count": 24,
   "metadata": {},
   "outputs": [],
   "source": [
    "s = SinglyLinkedList()\n",
    "length = 5\n",
    "for i in range(100):\n",
    "    s.pushNode(i)\n",
    "#s.printList()"
   ]
  },
  {
   "cell_type": "code",
   "execution_count": 21,
   "metadata": {},
   "outputs": [],
   "source": [
    "s.popNode()\n",
    "#s.printList()"
   ]
  },
  {
   "cell_type": "code",
   "execution_count": 19,
   "metadata": {},
   "outputs": [],
   "source": [
    "s.deleteNode(9)\n",
    "#s.printList()"
   ]
  },
  {
   "cell_type": "code",
   "execution_count": 26,
   "metadata": {},
   "outputs": [],
   "source": [
    "s.reverseList()\n",
    "#s.printList()"
   ]
  },
  {
   "attachments": {},
   "cell_type": "markdown",
   "metadata": {},
   "source": [
    "**Doubly Linked List**:  \n",
    "    a. Each node has address to the previous and the next node.  \n",
    "    b. Can traverse in both directions."
   ]
  }
 ],
 "metadata": {
  "kernelspec": {
   "display_name": "Python 3",
   "language": "python",
   "name": "python3"
  },
  "language_info": {
   "codemirror_mode": {
    "name": "ipython",
    "version": 3
   },
   "file_extension": ".py",
   "mimetype": "text/x-python",
   "name": "python",
   "nbconvert_exporter": "python",
   "pygments_lexer": "ipython3",
   "version": "3.9.6"
  },
  "orig_nbformat": 4
 },
 "nbformat": 4,
 "nbformat_minor": 2
}
